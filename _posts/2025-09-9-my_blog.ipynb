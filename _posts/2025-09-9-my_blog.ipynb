{
 "cells": [
  {
   "cell_type": "markdown",
   "id": "d75e2e50",
   "metadata": {},
   "source": [
    "---\n",
    "toc: true\n",
    "layout: post\n",
    "data: tools\n",
    "title: Ishaan's Blog\n",
    "description: What I have learned yet.\n",
    "permalink: /tools/trouble\n",
    "breadcrumb: /tools\n",
    "breadcrumbs: true\n",
    "---"
   ]
  },
  {
   "cell_type": "code",
   "execution_count": null,
   "id": "4343eb19",
   "metadata": {
    "vscode": {
     "languageId": "plaintext"
    }
   },
   "outputs": [],
   "source": []
  },
  {
   "cell_type": "markdown",
   "id": "d6951635",
   "metadata": {},
   "source": [
    "    Step 1: Creating the Virtual Environment\n",
    "\n",
    "Before we could dive into the game itself, our teacher showed us how to set up a virtual environment. We used the code (source venv/bin/activate) to activate it. We used a series of commands to set it up.\n",
    "\n",
    "Here’s what I learned :\n",
    "\n",
    "A virtual environment is like a clean space where you can install the tools and libraries you need just for one project.\n",
    "\n",
    "\n",
    "    Step 2:\n",
    "\n",
    "    We also learned how to change the theme of our repository(pages)\n",
    "    I learned to use 2 of them:\n",
    "    serve-so-simple & Use-cayman\n",
    "\n",
    "    What I’ve Learned So Far\n",
    "\n",
    "This class has taught me way more than just typing code:\n",
    "\n",
    "How to problem-solve and fix errors (sometimes frustrating, but always rewarding)\n",
    "\n",
    "How to use tools like the terminal, Python, and Pygame\n",
    "\n",
    "How to stay organized with things like virtual environments\n",
    "\n",
    "And most importantly, how to keep going even when I get stuck   \n",
    "\n"
   ]
  }
 ],
 "metadata": {
  "kernelspec": {
   "display_name": "venv (3.13.7)",
   "language": "python",
   "name": "python3"
  },
  "language_info": {
   "codemirror_mode": {
    "name": "ipython",
    "version": 3
   },
   "file_extension": ".py",
   "mimetype": "text/x-python",
   "name": "python",
   "nbconvert_exporter": "python",
   "pygments_lexer": "ipython3",
   "version": "3.13.7"
  }
 },
 "nbformat": 4,
 "nbformat_minor": 5
}
