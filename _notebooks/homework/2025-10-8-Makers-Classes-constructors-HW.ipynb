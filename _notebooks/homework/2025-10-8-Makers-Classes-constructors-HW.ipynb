{
 "cells": [
  {
   "cell_type": "raw",
   "id": "f46d5103",
   "metadata": {
    "vscode": {
     "languageId": "raw"
    }
   },
   "source": [
    "---\n",
    "layout: post\n",
    "title: Classes and Constructors Homework\n",
    "description:  Classes and Constructors Homework\n",
    "categories: [Javascript, Homework]\n",
    "permalink: /classes-constructors-HW\n",
    "author: Makers\n",
    "---"
   ]
  },
  {
   "cell_type": "markdown",
   "id": "b0f73322",
   "metadata": {},
   "source": [
    "## <u>JavaScript Classes and Constructors Homework<u>\n",
    "By now you should have a decent grasp of classes and constructors, and how to make and build one. The following exercises should help you solidify your understanding of classes and constructors in JavaScript."
   ]
  },
  {
   "cell_type": "markdown",
   "id": "4be7bd0a",
   "metadata": {
    "vscode": {
     "languageId": "javascript"
    }
   },
   "source": [
    "## Popcorn Hack 1\n",
    "1. The class TennisPlayer has been defined for you. Create a constructor with the arguements name, rank, and rankPoints.\n",
    "2. Call the class with the arguments Novak Djokovic, 1, 16000. \n",
    "3. Add one or more of the following arguments to the initial constructor: age, tournamentsPlayed, titlesWon. Add this as part of the profile output."
   ]
  },
  {
   "cell_type": "code",
   "execution_count": 3,
   "id": "7399ab93",
   "metadata": {
    "vscode": {
     "languageId": "javascript"
    }
   },
   "outputs": [
    {
     "data": {
      "application/javascript": "\nclass TennisPlayer {\n    constructor(name, rank, rankPoints, age) {\n        this.name = name;\n        this.rank = rank;\n        this.rankPoints = rankPoints;\n        this.age = age;\n    };\n    profile() {\n        console.log(\"Hi my name is \" + this.name + \", my rank is \" + this.rank + \" and I have \" + this.rankPoints + \" ranking points.\" + \" I am \" + this.age + \" years old.\");\n    }\n\n};\nconst player1 = new TennisPlayer(\"Novak Djokovic\", 1, 16000, 38);\nplayer1.profile();\n",
      "text/plain": [
       "<IPython.core.display.Javascript object>"
      ]
     },
     "metadata": {},
     "output_type": "display_data"
    }
   ],
   "source": [
    "%%javascript\n",
    "\n",
    "class TennisPlayer {\n",
    "    constructor(name, rank, rankPoints, age) {\n",
    "        this.name = name;\n",
    "        this.rank = rank;\n",
    "        this.rankPoints = rankPoints;\n",
    "        this.age = age;\n",
    "    };\n",
    "    profile() {\n",
    "        console.log(\"Hi my name is \" + this.name + \", my rank is \" + this.rank + \" and I have \" + this.rankPoints + \" ranking points.\" + \" I am \" + this.age + \" years old.\");\n",
    "    }\n",
    "\n",
    "};\n",
    "const player1 = new TennisPlayer(\"Novak Djokovic\", 1, 16000, 38);\n",
    "player1.profile();"
   ]
  },
  {
   "cell_type": "markdown",
   "id": "847cedc1",
   "metadata": {},
   "source": [
    "## Popcorn Hack 2\n",
    "\n",
    "1. Create a class called library\n",
    "2. Within library create a class called book with a constructors that allows the two methods - add book and remove book\n",
    "3. Add another inner class called computers - and have it output the number of computers on\n",
    "\n",
    "Below is the starter code to get you started"
   ]
  },
  {
   "cell_type": "code",
   "execution_count": 4,
   "id": "e7bad2b3",
   "metadata": {
    "vscode": {
     "languageId": "javascript"
    }
   },
   "outputs": [
    {
     "data": {
      "application/javascript": "// Step 1: Create the main class called Library\nclass Library {\n    constructor(name) {\n        this.name = name;\n        console.log(`Welcome to the`, this.name, `Library!`);\n    }\n\n    // Step 2: Create an inner class called Book\n    static Book = class {\n        constructor() {\n            this.books = [\"Harry Potter\", \"Last Kids on Earth\", \"Percy Jackson\"];\n        }\n\n        addBook(title) {\n            this.books.push(title);\n            console.log(`Added \"${title}\" to the library.`);\n        }\n\n        removeBook(title) {\n            const index = this.books.indexOf(title);\n            if (index > -1) {\n                this.books.splice(index, 1);\n                console.log(`Removed \"${title}\" from the library.`);\n            } else {\n                console.log(`\"${title}\" not found in the library.`);\n            }\n        }\n\n        // Step 3: Create another inner class called Computers\n        static Computers = class {\n            // TODO: Create a constructor that takes computersOn as an argument\\\n            constructor(computersOn) {\n                this.computersOn = computersOn;\n            }\n\n            showComputersOn() {\n                console.log(`There are currently ${this.computersOn} computers on.`);\n            }\n\n            // TODO: Create a method that outputs the number of computers on\n        }\n    }\n\n    // --- Example Usage ---\n    // Uncomment after writing your constructors!\n\n    const myLibrary = new Library(\"Downtown\");\n    const bookManager = new Library.Book();\n    const techRoom = new Library.Computers(8);\n\n bookManager.addBook(\"The H obbit\");\n bookManager.addBook(\"1984\");\n bookManager.removeBook(\"The Hobbit\");\n techRoom.showComputersOn();\n",
      "text/plain": [
       "<IPython.core.display.Javascript object>"
      ]
     },
     "metadata": {},
     "output_type": "display_data"
    }
   ],
   "source": [
    "%%javascript\n",
    "// Step 1: Create the main class called Library\n",
    "class Library {\n",
    "    constructor(name) {\n",
    "        this.name = name;\n",
    "        console.log(`Welcome to the`, this.name, `Library!`);\n",
    "    }\n",
    "\n",
    "    // Step 2: Create an inner class called Book\n",
    "    static Book = class {\n",
    "        constructor() {\n",
    "            this.books = [\"Harry Potter\", \"Last Kids on Earth\", \"Percy Jackson\"];\n",
    "        }\n",
    "\n",
    "        addBook(title) {\n",
    "            this.books.push(title);\n",
    "            console.log(`Added \"${title}\" to the library.`);\n",
    "        }\n",
    "\n",
    "        removeBook(title) {\n",
    "            const index = this.books.indexOf(title);\n",
    "            if (index > -1) {\n",
    "                this.books.splice(index, 1);\n",
    "                console.log(`Removed \"${title}\" from the library.`);\n",
    "            } else {\n",
    "                console.log(`\"${title}\" not found in the library.`);\n",
    "            }\n",
    "        }\n",
    "\n",
    "        // Step 3: Create another inner class called Computers\n",
    "        static Computers = class {\n",
    "            // TODO: Create a constructor that takes computersOn as an argument\\\n",
    "            constructor(computersOn) {\n",
    "                this.computersOn = computersOn;\n",
    "            }\n",
    "\n",
    "            showComputersOn() {\n",
    "                console.log(`There are currently ${this.computersOn} computers on.`);\n",
    "            }\n",
    "\n",
    "            // TODO: Create a method that outputs the number of computers on\n",
    "        }\n",
    "    }\n",
    "\n",
    "    // --- Example Usage ---\n",
    "    // Uncomment after writing your constructors!\n",
    "\n",
    "    const myLibrary = new Library(\"Downtown\");\n",
    "    const bookManager = new Library.Book();\n",
    "    const techRoom = new Library.Computers(8);\n",
    "\n",
    " bookManager.addBook(\"The H obbit\");\n",
    " bookManager.addBook(\"1984\");\n",
    " bookManager.removeBook(\"The Hobbit\");\n",
    " techRoom.showComputersOn();"
   ]
  },
  {
   "cell_type": "markdown",
   "id": "24d1fadb",
   "metadata": {},
   "source": [
    "## Homework\n",
    "Create and expand the Cookie Clicker project:\n",
    "1. Fill out the cookies and cookiesPerClick variables.\n",
    "2. Define what should happen upon clicking the cookie.\n",
    "3. Create an `Upgrade` class that multiplies cookies per click, and expand the original cookieclicker class to integrate upgardes.\n",
    "5. Print how each upgrade changes the total cookie output.\n",
    "6. Add a cookie type variable which sets the specific type of cookie (ex: Chocolate chip, Oatmeal, etc.)\n",
    "The following code is to help you get started.\n",
    "\n",
    "#### Extra credit: Up to 0.03 points\n",
    "- Create a new cell, apply the ALL of the above changes to a blank cookie clicker project, and submit that code for the cookie clicker project."
   ]
  },
  {
   "cell_type": "code",
   "execution_count": 5,
   "id": "e9c84d6f",
   "metadata": {
    "vscode": {
     "languageId": "javascript"
    }
   },
   "outputs": [
    {
     "data": {
      "application/javascript": "\nclass Upgrade {\n  constructor(name, multiplier) {\n    this.name = name;\n    this.multiplier = multiplier;\n  }\n  applyUpgrade(cookieClicker) {\n    cookieClicker.cookiesPerClick *= this.multiplier;\n    console.log(`Upgrade \"${this.name}\" applied! Cookies per click is now ${cookieClicker.cookiesPerClick}.`);\n  }\n}\n\nclass CookieClicker {\n  constructor(cookies, cookiesPerClick, cookieType) {\n    this.cookies = cookies; // start value\n    this.cookiesPerClick = cookiesPerClick; // increment value\n    this.cookieType = cookieType; // type of cookie\n    this.upgrades = [];\n  }\n\n  click() {\n    this.cookies += this.cookiesPerClick;\n    console.log(`You have ${this.cookies} ${this.cookieType} cookies.`);\n  }\n\n  addUpgrade(upgrade) {\n    this.upgrades.push(upgrade);\n    upgrade.applyUpgrade(this);\n    console.log(`Total upgrades: ${this.upgrades.map(u => u.name).join(\", \")}`);\n  }\n}\n\n// Example usage:\nconst game = new CookieClicker(0, 1, \"Cookie Dough\");\ngame.click(); // You have 1 Chocolate Chip cookies.\ngame.click(); // You have 2 Chocolate Chip cookies.\n\nconst doubleUpgrade = new Upgrade(\"Double Click\", 2);\ngame.addUpgrade(doubleUpgrade); // Upgrade applied, cookiesPerClick is now 2\n\ngame.click(); \n\nconst tripleUpgrade = new Upgrade(\"Triple Click\", 3);\ngame.addUpgrade(tripleUpgrade); \n\ngame.click(); \n\n// Change cookie type\ngame.cookieType = \"Oatmeal Raisin\";\ngame.click(); \n",
      "text/plain": [
       "<IPython.core.display.Javascript object>"
      ]
     },
     "metadata": {},
     "output_type": "display_data"
    }
   ],
   "source": [
    "%%javascript\n",
    "\n",
    "class Upgrade {\n",
    "  constructor(name, multiplier) {\n",
    "    this.name = name;\n",
    "    this.multiplier = multiplier;\n",
    "  }\n",
    "  applyUpgrade(cookieClicker) {\n",
    "    cookieClicker.cookiesPerClick *= this.multiplier;\n",
    "    console.log(`Upgrade \"${this.name}\" applied! Cookies per click is now ${cookieClicker.cookiesPerClick}.`);\n",
    "  }\n",
    "}\n",
    "\n",
    "class CookieClicker {\n",
    "  constructor(cookies, cookiesPerClick, cookieType) {\n",
    "    this.cookies = cookies; // start value\n",
    "    this.cookiesPerClick = cookiesPerClick; // increment value\n",
    "    this.cookieType = cookieType; // type of cookie\n",
    "    this.upgrades = [];\n",
    "  }\n",
    "\n",
    "  click() {\n",
    "    this.cookies += this.cookiesPerClick;\n",
    "    console.log(`You have ${this.cookies} ${this.cookieType} cookies.`);\n",
    "  }\n",
    "\n",
    "  addUpgrade(upgrade) {\n",
    "    this.upgrades.push(upgrade);\n",
    "    upgrade.applyUpgrade(this);\n",
    "    console.log(`Total upgrades: ${this.upgrades.map(u => u.name).join(\", \")}`);\n",
    "  }\n",
    "}\n",
    "\n",
    "// Example usage:\n",
    "const game = new CookieClicker(0, 1, \"Cookie Dough\");\n",
    "game.click(); // You have 1 Chocolate Chip cookies.\n",
    "game.click(); // You have 2 Chocolate Chip cookies.\n",
    "\n",
    "const doubleUpgrade = new Upgrade(\"Double Click\", 2);\n",
    "game.addUpgrade(doubleUpgrade); // Upgrade applied, cookiesPerClick is now 2\n",
    "\n",
    "game.click(); \n",
    "\n",
    "const tripleUpgrade = new Upgrade(\"Triple Click\", 3);\n",
    "game.addUpgrade(tripleUpgrade); \n",
    "\n",
    "game.click(); \n",
    "\n",
    "// Change cookie type\n",
    "game.cookieType = \"Oatmeal Raisin\";\n",
    "game.click(); "
   ]
  },
  {
   "cell_type": "markdown",
   "id": "0180a89f",
   "metadata": {},
   "source": [
    "This is where you will find homework: [Github Homework Link](https://github.com/Open-Coding-Society/pages/tree/main/_notebooks/CSSE/JavaScriptLessons/Classes_and_Methods)"
   ]
  }
 ],
 "metadata": {
  "kernelspec": {
   "display_name": "venv (3.13.7)",
   "language": "python",
   "name": "python3"
  },
  "language_info": {
   "codemirror_mode": {
    "name": "ipython",
    "version": 3
   },
   "file_extension": ".py",
   "mimetype": "text/x-python",
   "name": "python",
   "nbconvert_exporter": "python",
   "pygments_lexer": "ipython3",
   "version": "3.13.7"
  }
 },
 "nbformat": 4,
 "nbformat_minor": 5
}
