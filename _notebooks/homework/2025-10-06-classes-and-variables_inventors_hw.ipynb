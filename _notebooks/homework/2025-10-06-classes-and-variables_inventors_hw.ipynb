{
 "cells": [
  {
   "cell_type": "raw",
   "id": "e90135fa",
   "metadata": {
    "vscode": {
     "languageId": "raw"
    }
   },
   "source": [
    "---\n",
    "toc: True\n",
    "layout: post\n",
    "data: tools\n",
    "title: Varclasses\n",
    "description: Teaching Variables and Classes\n",
    "permalink: /csse/fall_2025/javascript/classes-and-variables/hw\n",
    "---"
   ]
  },
  {
   "cell_type": "markdown",
   "id": "12325025",
   "metadata": {},
   "source": [
    "## POPCORN HACK 1 A short program about variables\n"
   ]
  },
  {
   "cell_type": "code",
   "execution_count": 15,
   "id": "cd165c29",
   "metadata": {
    "vscode": {
     "languageId": "javascript"
    }
   },
   "outputs": [
    {
     "data": {
      "application/javascript": "// Step 1: Make some variables\nlet name = \"Ishaan\";\nlet age = 10;\n\n// Step 2: Print a message\nconsole.log(\"Hi, my name is\", Ishaan);\nconsole.log(\"I am\", 14, \"years old.\");\nlet nextYearAge = age + 1\n\n// Step 3: Unfinished part\n// TODO: Make a new variable called \"nextYearAge\"\n// that is the age plus 1\nconsole.log(\"Next year I will be nextYearAge years old\")\n// let nextYearAge = ???   // <-- finish this line!\n// TODO: Print out the result\n// Example: \"Next year I will be 11 years old.\"\n// console.log( ??? )   // <-- finish this line!\n\n",
      "text/plain": [
       "<IPython.core.display.Javascript object>"
      ]
     },
     "metadata": {},
     "output_type": "display_data"
    }
   ],
   "source": [
    "%%javascript\n",
    "// Step 1: Make some variables\n",
    "let name = \"Ishaan\";\n",
    "let age = 10;\n",
    "\n",
    "// Step 2: Print a message\n",
    "console.log(\"Hi, my name is\", Ishaan);\n",
    "console.log(\"I am\", 14, \"years old.\");\n",
    "let nextYearAge = age + 1\n",
    "\n",
    "// Step 3: Unfinished part\n",
    "// TODO: Make a new variable called \"nextYearAge\"\n",
    "// that is the age plus 1\n",
    "console.log(\"Next year I will be nextYearAge years old\")\n",
    "// let nextYearAge = ???   // <-- finish this line!\n",
    "// TODO: Print out the result\n",
    "// Example: \"Next year I will be 11 years old.\"\n",
    "// console.log( ??? )   // <-- finish this line!\n",
    "\n"
   ]
  },
  {
   "cell_type": "markdown",
   "id": "8b9b8297",
   "metadata": {},
   "source": [
    "## POPCORN HACK 2 A short program about classes\n"
   ]
  },
  {
   "cell_type": "code",
   "execution_count": 7,
   "id": "dac1d5c1",
   "metadata": {
    "vscode": {
     "languageId": "javascript"
    }
   },
   "outputs": [
    {
     "data": {
      "text/html": [
       "\n",
       "<div>\n",
       "  <h3>🐾 Popcorn Hack 2 — Interactive Zoo</h3>\n",
       "  <p>Click a button to hear from an animal!</p>\n",
       "  <button id=\"doggyBtn\">🐶 Talk to Bolt</button>\n",
       "  <button id=\"cattyBtn\">🐱 Talk to Whiskers</button>\n",
       "  <button id=\"parrotyyBtn\">🦜 Talk to Kiwi</button>\n",
       "  <pre id=\"ph2Output\">Results will appear below:</pre>\n",
       "</div>\n",
       "\n",
       "<script>\n",
       "(() => {\n",
       "\n",
       "  function writeOutput(msg) {\n",
       "    console.log(msg);\n",
       "    document.getElementById(\"ph2Output\").innerText += \"\\n\" + msg;\n",
       "  }\n",
       "\n",
       "  class Animal {\n",
       "    constructor(name, sound, kind) {\n",
       "      this.name = name;\n",
       "      this.sound = sound;\n",
       "      this.kind = kind;\n",
       "    }\n",
       "\n",
       "    speak() {\n",
       "      writeOutput(`${this.name} the ${this.kind} says \"${this.sound}!\"`);\n",
       "    }\n",
       "\n",
       "    describe() {\n",
       "      writeOutput(`${this.name} is a ${this.kind} and is super friendly 🐾`);\n",
       "    }\n",
       "  }\n",
       "\n",
       "  const bolt = new Animal(\"Boo3lt\", \"Woof\", \"Dog\");\n",
       "  const whiskers = new Animal(\"Whiskerrrs\", \"Meow\", \"Cat\");\n",
       "  const kiwi = new Animal(\"Straws\", \"Squawk\", \"Parrot\");\n",
       "\n",
       "  document.getElementById(\"doggyBtn\").addEventListener(\"click\", () => {\n",
       "    writeOutput(\"\\n🐶 You clicked Bolt!\");\n",
       "    bolt.speak();\n",
       "    bolt.describe();\n",
       "  });\n",
       "\n",
       "  document.getElementById(\"cattyBtn\").addEventListener(\"click\", () => {\n",
       "    writeOutput(\"\\n🐱 You clicked Whiskers!\");\n",
       "    whiskers.speak();\n",
       "    whiskers.describe();\n",
       "  });\n",
       "\n",
       "  document.getElementById(\"parrotyyBtn\").addEventListener(\"click\", () => {\n",
       "    writeOutput(\"\\n🦜 You clicked Kiwi!\");\n",
       "    kiwi.speak();\n",
       "    kiwi.describe();\n",
       "  });\n",
       "\n",
       "})();\n",
       "</script>\n"
      ],
      "text/plain": [
       "<IPython.core.display.HTML object>"
      ]
     },
     "metadata": {},
     "output_type": "display_data"
    }
   ],
   "source": [
    "%%html\n",
    "\n",
    "<div>\n",
    "  <h3>🐾 Popcorn Hack 2 — Interactive Zoo</h3>\n",
    "  <p>Click a button to hear from an animal!</p>\n",
    "  <button id=\"doggyBtn\">🐶 Talk to Bolt</button>\n",
    "  <button id=\"cattyBtn\">🐱 Talk to Whiskers</button>\n",
    "  <button id=\"parrotyyBtn\">🦜 Talk to Kiwi</button>\n",
    "  <pre id=\"ph2Output\">Results will appear below:</pre>\n",
    "</div>\n",
    "\n",
    "<script>\n",
    "(() => {\n",
    "\n",
    "  function writeOutput(msg) {\n",
    "    console.log(msg);\n",
    "    document.getElementById(\"ph2Output\").innerText += \"\\n\" + msg;\n",
    "  }\n",
    "\n",
    "  class Animal {\n",
    "    constructor(name, sound, kind) {\n",
    "      this.name = name;\n",
    "      this.sound = sound;\n",
    "      this.kind = kind;\n",
    "    }\n",
    "\n",
    "    speak() {\n",
    "      writeOutput(`${this.name} the ${this.kind} says \"${this.sound}!\"`);\n",
    "    }\n",
    "\n",
    "    describe() {\n",
    "      writeOutput(`${this.name} is a ${this.kind} and is super friendly 🐾`);\n",
    "    }\n",
    "  }\n",
    "\n",
    "  const bolt = new Animal(\"Boo3lt\", \"Woof\", \"Dog\");\n",
    "  const whiskers = new Animal(\"Whiskerrrs\", \"Meow\", \"Cat\");\n",
    "  const kiwi = new Animal(\"Straws\", \"Squawk\", \"Parrot\");\n",
    "\n",
    "  document.getElementById(\"doggyBtn\").addEventListener(\"click\", () => {\n",
    "    writeOutput(\"\\n🐶 You clicked Bolt!\");\n",
    "    bolt.speak();\n",
    "    bolt.describe();\n",
    "  });\n",
    "\n",
    "  document.getElementById(\"cattyBtn\").addEventListener(\"click\", () => {\n",
    "    writeOutput(\"\\n🐱 You clicked Whiskers!\");\n",
    "    whiskers.speak();\n",
    "    whiskers.describe();\n",
    "  });\n",
    "\n",
    "  document.getElementById(\"parrotyyBtn\").addEventListener(\"click\", () => {\n",
    "    writeOutput(\"\\n🦜 You clicked Kiwi!\");\n",
    "    kiwi.speak();\n",
    "    kiwi.describe();\n",
    "  });\n",
    "\n",
    "})();\n",
    "</script>"
   ]
  },
  {
   "cell_type": "markdown",
   "id": "efc35c8b",
   "metadata": {},
   "source": [
    "## Homework"
   ]
  },
  {
   "cell_type": "code",
   "execution_count": 17,
   "id": "c47afda8",
   "metadata": {
    "vscode": {
     "languageId": "javascript"
    }
   },
   "outputs": [
    {
     "data": {
      "application/javascript": "// Step 1: Make a list of choices\nconst choices = [\"rock\", \"paper\", \"scissors\"];\n\n// Step 2: Ask the user for their choice (browser version with prompt)\nlet userChoice = prompt(\"Choose rock, paper, or scissors:\").toLowerCase();\n\n// Step 3: Computer picks a random choice\nconst computerChoice = choices[Math.floor(Math.random() * choices.length)];\nconsole.log(\"Computer chose:\", computerChoice);\n\n// Step 4: Compare userChoice and computerChoice\nif (userChoice === computerChoice) {\n  console.log(\"It's a tie!\");\n} else if (userChoice === \"rock\" && computerChoice === \"scissors\") {\n  console.log(\"You win!\");\n} else if (userChoice === \"scissors\" && computerChoice === \"paper\") {\n  console.log(\"You win!\");\n} else if (userChoice === \"paper\" && computerChoice === \"rock\") {\n  console.log(\"You win!\");\n} else {\n  console.log(\"You lose!\");\n}\n\n// Bonus: Put the whole game in a loop\n// Uncomment to play multiple rounds in browser\n/*\nwhile (true) {\n  let userChoice = prompt(\"Choose rock, paper, or scissors”)\n",
      "text/plain": [
       "<IPython.core.display.Javascript object>"
      ]
     },
     "metadata": {},
     "output_type": "display_data"
    }
   ],
   "source": [
    "%%javascript\n",
    "// Step 1: Make a list of choices\n",
    "const choices = [\"rock\", \"paper\", \"scissors\"];\n",
    "\n",
    "// Step 2: Ask the user for their choice (browser version with prompt)\n",
    "let userChoice = prompt(\"Choose rock, paper, or scissors:\").toLowerCase();\n",
    "\n",
    "// Step 3: Computer picks a random choice\n",
    "const computerChoice = choices[Math.floor(Math.random() * choices.length)];\n",
    "console.log(\"Computer chose:\", computerChoice);\n",
    "\n",
    "// Step 4: Compare userChoice and computerChoice\n",
    "if (userChoice === computerChoice) {\n",
    "  console.log(\"It's a tie!\");\n",
    "} else if (userChoice === \"rock\" && computerChoice === \"scissors\") {\n",
    "  console.log(\"You win!\");\n",
    "} else if (userChoice === \"scissors\" && computerChoice === \"paper\") {\n",
    "  console.log(\"You win!\");\n",
    "} else if (userChoice === \"paper\" && computerChoice === \"rock\") {\n",
    "  console.log(\"You win!\");\n",
    "} else {\n",
    "  console.log(\"You lose!\");\n",
    "}\n",
    "\n",
    "// Bonus: Put the whole game in a loop\n",
    "// Uncomment to play multiple rounds in browser\n",
    "/*\n",
    "while (true) {\n",
    "  let userChoice = prompt(\"Choose rock, paper, or scissors”)\n"
   ]
  },
  {
   "cell_type": "markdown",
   "id": "b0c99301",
   "metadata": {},
   "source": [
    "## Sumbmission!"
   ]
  },
  {
   "cell_type": "markdown",
   "id": "2c838d30",
   "metadata": {},
   "source": [
    "https://forms.gle/2aPP6CXFdQnNaE7GA"
   ]
  }
 ],
 "metadata": {
  "kernelspec": {
   "display_name": "venv (3.13.7)",
   "language": "python",
   "name": "python3"
  },
  "language_info": {
   "codemirror_mode": {
    "name": "ipython",
    "version": 3
   },
   "file_extension": ".py",
   "mimetype": "text/x-python",
   "name": "python",
   "nbconvert_exporter": "python",
   "pygments_lexer": "ipython3",
   "version": "3.13.7"
  }
 },
 "nbformat": 4,
 "nbformat_minor": 5
}
